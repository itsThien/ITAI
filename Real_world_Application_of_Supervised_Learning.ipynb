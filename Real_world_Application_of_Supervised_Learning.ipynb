{
  "nbformat": 4,
  "nbformat_minor": 0,
  "metadata": {
    "colab": {
      "private_outputs": true,
      "provenance": []
    },
    "kernelspec": {
      "name": "python3",
      "display_name": "Python 3"
    },
    "language_info": {
      "name": "python"
    }
  },
  "cells": [
    {
      "cell_type": "markdown",
      "source": [
        "#Data Preprocessing:\n"
      ],
      "metadata": {
        "id": "h7me55xGBAnP"
      }
    },
    {
      "cell_type": "code",
      "execution_count": null,
      "metadata": {
        "id": "_EU2FHsd9kWS"
      },
      "outputs": [],
      "source": [
        "import pandas as pd\n",
        "import numpy as np\n",
        "from sklearn.model_selection import train_test_split\n",
        "from sklearn.preprocessing import StandardScaler\n",
        "from sklearn.impute import SimpleImputer\n",
        "\n",
        "# Load dataset\n",
        "url = \"https://archive.ics.uci.edu/ml/machine-learning-databases/wine-quality/winequality-red.csv\"\n",
        "data = pd.read_csv(url, sep=\";\")\n",
        "\n",
        "# Basic preprocessing\n",
        "X = data.drop('quality', axis=1)\n",
        "y = data['quality']\n",
        "\n",
        "# Handle missing values\n",
        "imputer = SimpleImputer(strategy='mean')\n",
        "X = pd.DataFrame(imputer.fit_transform(X), columns=X.columns)\n",
        "\n",
        "# Splitting the dataset into training and testing sets\n",
        "X_train, X_test, y_train, y_test = train_test_split(X, y, test_size=0.2, random_state=42)\n",
        "\n",
        "# Feature Scaling\n",
        "scaler = StandardScaler()\n",
        "X_train_scaled = scaler.fit_transform(X_train)\n",
        "X_test_scaled = scaler.transform(X_test)"
      ]
    },
    {
      "cell_type": "markdown",
      "source": [
        "#Model Training:"
      ],
      "metadata": {
        "id": "Hwj-X7cjBJNm"
      }
    },
    {
      "cell_type": "code",
      "source": [
        "from sklearn.ensemble import RandomForestClassifier, GradientBoostingClassifier\n",
        "from sklearn.model_selection import GridSearchCV\n",
        "\n",
        "# Random Forest\n",
        "rf_params = {\n",
        "    'n_estimators': [100, 200, 300],\n",
        "    'max_depth': [None, 5, 10],\n",
        "    'min_samples_split': [2, 5, 10]\n",
        "}\n",
        "rf = RandomForestClassifier(random_state=42)\n",
        "rf_grid = GridSearchCV(rf, rf_params, cv=5, n_jobs=-1)\n",
        "rf_grid.fit(X_train_scaled, y_train)\n",
        "\n",
        "# Gradient Boosting\n",
        "gb_params = {\n",
        "    'n_estimators': [100, 200, 300],\n",
        "    'learning_rate': [0.01, 0.1, 0.2],\n",
        "    'max_depth': [3, 4, 5]\n",
        "}\n",
        "gb = GradientBoostingClassifier(random_state=42)\n",
        "gb_grid = GridSearchCV(gb, gb_params, cv=5, n_jobs=-1)\n",
        "gb_grid.fit(X_train_scaled, y_train)"
      ],
      "metadata": {
        "id": "8sjXcp8N9rOp"
      },
      "execution_count": null,
      "outputs": []
    },
    {
      "cell_type": "markdown",
      "source": [
        "#Model Evaluation:"
      ],
      "metadata": {
        "id": "GkJCxOgxBNlT"
      }
    },
    {
      "cell_type": "code",
      "source": [
        "from sklearn.metrics import accuracy_score, precision_score, recall_score, f1_score\n",
        "\n",
        "def evaluate_model(model, X_test, y_test):\n",
        "    y_pred = model.predict(X_test)\n",
        "    return {\n",
        "        'accuracy': accuracy_score(y_test, y_pred),\n",
        "        'precision': precision_score(y_test, y_pred, average='weighted'),\n",
        "        'recall': recall_score(y_test, y_pred, average='weighted'),\n",
        "        'f1': f1_score(y_test, y_pred, average='weighted')\n",
        "    }\n",
        "\n",
        "rf_results = evaluate_model(rf_grid.best_estimator_, X_test_scaled, y_test)\n",
        "gb_results = evaluate_model(gb_grid.best_estimator_, X_test_scaled, y_test)"
      ],
      "metadata": {
        "id": "i2kW1nDv9uO1"
      },
      "execution_count": null,
      "outputs": []
    },
    {
      "cell_type": "markdown",
      "source": [
        "#Comparative Analysis:"
      ],
      "metadata": {
        "id": "o35n_-QaBRCp"
      }
    },
    {
      "cell_type": "code",
      "source": [
        "print(\"Random Forest Results:\")\n",
        "for metric, value in rf_results.items():\n",
        "    print(f\"{metric}: {value:.4f}\")\n",
        "\n",
        "print(\"\\nGradient Boosting Results:\")\n",
        "for metric, value in gb_results.items():\n",
        "    print(f\"{metric}: {value:.4f}\")\n",
        "\n",
        "print(\"\\nBest parameters:\")\n",
        "print(\"Random Forest:\", rf_grid.best_params_)\n",
        "print(\"Gradient Boosting:\", gb_grid.best_params_)"
      ],
      "metadata": {
        "id": "mLHmq-8p9wpc"
      },
      "execution_count": null,
      "outputs": []
    }
  ]
}
