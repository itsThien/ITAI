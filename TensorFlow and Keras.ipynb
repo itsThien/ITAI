{
 "cells": [
  {
   "cell_type": "code",
   "execution_count": null,
   "id": "fd0356f0-2c4c-423b-bf5b-6eb80689f6f4",
   "metadata": {},
   "outputs": [],
   "source": [
    "!pip install tensorflow\n",
    "!pip install matplotlib\n",
    "!pip install ipywidgets"
   ]
  },
  {
   "cell_type": "code",
   "execution_count": null,
   "id": "10aacc47-4921-46f5-97c2-c320212b8e90",
   "metadata": {
    "scrolled": true
   },
   "outputs": [],
   "source": [
    "# Import necessary libraries\n",
    "from tensorflow.keras.applications.vgg16 import VGG16, preprocess_input, decode_predictions\n",
    "from tensorflow.keras.preprocessing.image import load_img, img_to_array\n",
    "from IPython.display import display\n",
    "import numpy as np\n",
    "import matplotlib.pyplot as plt\n",
    "from PIL import Image, ImageFilter\n",
    "import io\n",
    "import ipywidgets as widgets\n"
   ]
  },
  {
   "cell_type": "markdown",
   "id": "03646f9c-ba2c-4ad8-b943-2c3b06ed8819",
   "metadata": {},
   "source": [
    "# Introduction\r\n",
    "This lab is designed to introduce you to the basics of deep learning by interacting with a pre-built model. You'll understand the workflow of a deep learning project, including data preprocessing, model architecture, and making predictions. The goal is to familiarize yourself with the basics of deep learning without writing any code.\r\n"
   ]
  },
  {
   "cell_type": "code",
   "execution_count": null,
   "id": "bf821093-9b9f-4d34-88fd-8c2e97b48d46",
   "metadata": {},
   "outputs": [],
   "source": [
    "# Load the VGG16 model\n",
    "model = VGG16(weights='imagenet')\n",
    "\n",
    "# Display the model architecture\n",
    "model.summary()\n"
   ]
  },
  {
   "cell_type": "code",
   "execution_count": null,
   "id": "3bf514ea-e70b-401d-b9fa-9a8bb37bb674",
   "metadata": {},
   "outputs": [],
   "source": [
    "# Load and preprocess an image\n",
    "def load_and_preprocess_image(image_path):\n",
    "    # Load the image\n",
    "    img = load_img(image_path, target_size=(224, 224))\n",
    "\n",
    "    # Convert the image to a numpy array\n",
    "    img_array = img_to_array(img)\n",
    "\n",
    "    # Expand dimensions to fit the model input\n",
    "    img_array = np.expand_dims(img_array, axis=0)\n",
    "\n",
    "    # Preprocess the image\n",
    "    img_array = preprocess_input(img_array)\n",
    "\n",
    "    return img, img_array\n",
    "\n",
    "# Load and preprocess a sample image\n",
    "sample_image, processed_image = load_and_preprocess_image('sample.jpg')\n",
    "\n",
    "# Display the sample image\n",
    "plt.imshow(sample_image)\n",
    "plt.show()\n"
   ]
  },
  {
   "cell_type": "code",
   "execution_count": null,
   "id": "ed2d959d-deaa-49aa-8bb6-c15d8714cc6a",
   "metadata": {},
   "outputs": [],
   "source": [
    "# Make predictions\n",
    "predictions = model.predict(processed_image)\n",
    "\n",
    "# Decode and print the predictions\n",
    "decoded_predictions = decode_predictions(predictions, top=3)[0]\n",
    "print(decoded_predictions)\n"
   ]
  },
  {
   "cell_type": "code",
   "execution_count": null,
   "id": "f2fdad88-630d-4755-9e30-5eb7cf502e5c",
   "metadata": {},
   "outputs": [],
   "source": [
    "# Upload button to load images\n",
    "upload = widgets.FileUpload()\n",
    "display(upload)\n",
    "\n",
    "# Button to make predictions\n",
    "predict_button = widgets.Button(description=\"Make Prediction\")\n",
    "display(predict_button)\n",
    "\n",
    "# Function to handle button click\n",
    "def on_click(change):\n",
    "    img_data = list(upload.value.values())[0]['content']\n",
    "    img = Image.open(io.BytesIO(img_data))\n",
    "    img = img.resize((224, 224))\n",
    "    \n",
    "    # Preprocess and predict\n",
    "    img_array = img_to_array(img)\n",
    "    img_array = np.expand_dims(img_array, axis=0)\n",
    "    img_array = preprocess_input(img_array)\n",
    "    predictions = model.predict(img_array)\n",
    "    decoded_predictions = decode_predictions(predictions, top=3)[0]\n",
    "    \n",
    "    # Display predictions\n",
    "    print(decoded_predictions)\n",
    "\n",
    "predict_button.on_click(on_click)\n"
   ]
  },
  {
   "cell_type": "markdown",
   "id": "aae7f590-2852-4597-85f4-f4cc7d432894",
   "metadata": {},
   "source": [
    "# Conclusion and Discussion\n",
    "Reflect on the lab activities. Discuss how the pre-trained model was able to make predictions, the role of data preprocessing, and the impact of input modifications on the model's predictions.\n"
   ]
  }
 ],
 "metadata": {
  "kernelspec": {
   "display_name": "Python 3 (ipykernel)",
   "language": "python",
   "name": "python3"
  },
  "language_info": {
   "codemirror_mode": {
    "name": "ipython",
    "version": 3
   },
   "file_extension": ".py",
   "mimetype": "text/x-python",
   "name": "python",
   "nbconvert_exporter": "python",
   "pygments_lexer": "ipython3",
   "version": "3.11.7"
  }
 },
 "nbformat": 4,
 "nbformat_minor": 5
}
